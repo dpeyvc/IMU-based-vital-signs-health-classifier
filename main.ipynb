{
 "cells": [
  {
   "cell_type": "markdown",
   "id": "35c3e9b8",
   "metadata": {},
   "source": [
    "# Pet-i Vital Model\n",
    "\n",
    "이 노트북은 반려견 바이탈 사인(심박수, 호흡수, 체온 등) 데이터를 이용하여 정상(0) vs. 비정상(1) 상태를 분류하는 이진 분류 모델의 전체 과정을 단계별로 실행합니다."
   ]
  },
  {
   "cell_type": "markdown",
   "id": "bdd67de7",
   "metadata": {},
   "source": [
    "## 1. 환경 설정\n",
    "필요한 라이브러리를 임포트하고 재현성을 위해 시드를 고정합니다."
   ]
  },
  {
   "cell_type": "code",
   "execution_count": null,
   "id": "84c0ff08",
   "metadata": {},
   "outputs": [],
   "source": [
    "import os\n",
    "import numpy as np\n",
    "import pandas as pd\n",
    "import matplotlib.pyplot as plt\n",
    "from sklearn.model_selection import train_test_split\n",
    "from sklearn.preprocessing import StandardScaler\n",
    "from sklearn.metrics import classification_report, confusion_matrix\n",
    "import tensorflow as tf\n",
    "from tensorflow.keras import Sequential\n",
    "from tensorflow.keras.layers import Input, Dense, Dropout\n",
    "from tensorflow.keras.callbacks import EarlyStopping, ModelCheckpoint\n",
    "\n",
    "# 재현성 설정\n",
    "np.random.seed(42)\n",
    "tf.random.set_seed(42)\n"
   ]
  },
  {
   "cell_type": "markdown",
   "id": "eed0dca2",
   "metadata": {},
   "source": [
    "## 2. 데이터 로드 및 합성\n",
    "실제 CSV 파일을 로드하거나, 파일이 없으면 합성 데이터를 생성합니다."
   ]
  },
  {
   "cell_type": "code",
   "execution_count": null,
   "id": "308c88ff",
   "metadata": {},
   "outputs": [],
   "source": [
    "data_file = 'pet_vital_data_with_labels.csv'\n",
    "\n",
    "def generate_dataset(num_normal=5000, num_abnormal=500):\n",
    "    states = [0, 1, 2]\n",
    "    dog_types = [0, 1, 2]\n",
    "    dog_type_probs = [0.3, 0.5, 0.2]\n",
    "\n",
    "    def gen_state(state, count, abnormal=False):\n",
    "        df = pd.DataFrame({\n",
    "            'HeartRate': np.random.randint(50, 200, count),\n",
    "            'RespirationRate': np.random.randint(5, 50, count),\n",
    "            'Temperature': np.round(np.random.uniform(36.0, 40.5, count), 1),\n",
    "            'State': state,\n",
    "            'DogType': np.random.choice(dog_types, count, p=dog_type_probs)\n",
    "        })\n",
    "        if abnormal:\n",
    "            df['HeartRate'] *= np.random.uniform(1.2, 2.0, count)\n",
    "            df['RespirationRate'] *= np.random.uniform(1.2, 2.0, count)\n",
    "            df['Temperature'] += np.random.uniform(0.5, 1.0, count)\n",
    "        df['Label'] = int(abnormal)\n",
    "        return df\n",
    "\n",
    "    normal = pd.concat([gen_state(s, num_normal, False) for s in states])\n",
    "    abnormal = pd.concat([gen_state(s, num_abnormal, True) for s in states])\n",
    "    return pd.concat([normal, abnormal]).reset_index(drop=True)\n",
    "\n",
    "# 로드 또는 생성\n",
    "if os.path.exists(data_file):\n",
    "    df = pd.read_csv(data_file)\n",
    "    print('CSV 로드 완료, 샘플 수 =', len(df))\n",
    "else:\n",
    "    df = generate_dataset()\n",
    "    df.to_csv(data_file, index=False)\n",
    "    print('합성 데이터 생성 및 저장, 샘플 수 =', len(df))\n",
    "\n",
    "df.head()"
   ]
  },
  {
   "cell_type": "markdown",
   "id": "41ae4603",
   "metadata": {},
   "source": [
    "## 3. 전처리 (학습/테스트 분할 및 스케일링)"
   ]
  },
  {
   "cell_type": "code",
   "execution_count": null,
   "id": "c8be35e5",
   "metadata": {},
   "outputs": [],
   "source": [
    "# 특징과 레이블 분리\n",
    "X = df[['HeartRate','RespirationRate','Temperature','State','DogType']]\n",
    "y = df['Label']\n",
    "\n",
    "# 분할\n",
    "X_train, X_test, y_train, y_test = train_test_split(\n",
    "    X, y, test_size=0.2, stratify=y, random_state=42\n",
    ")\n",
    "print('Train:', X_train.shape, 'Test:', X_test.shape)\n",
    "\n",
    "# 스케일링\n",
    "scaler = StandardScaler()\n",
    "X_train_scaled = scaler.fit_transform(X_train)\n",
    "X_test_scaled = scaler.transform(X_test)"
   ]
  },
  {
   "cell_type": "markdown",
   "id": "0c26de1f",
   "metadata": {},
   "source": [
    "## 4. 모델 정의 및 컴파일"
   ]
  },
  {
   "cell_type": "code",
   "execution_count": null,
   "id": "36a08917",
   "metadata": {},
   "outputs": [],
   "source": [
    "model = Sequential([\n",
    "    Input(shape=(X_train_scaled.shape[1],)),\n",
    "    Dense(64, activation='relu'),\n",
    "    Dropout(0.5),\n",
    "    Dense(32, activation='relu'),\n",
    "    Dropout(0.5),\n",
    "    Dense(1, activation='sigmoid')\n",
    "])\n",
    "\n",
    "model.compile(\n",
    "    optimizer='adam',\n",
    "    loss='binary_crossentropy',\n",
    "    metrics=['accuracy']\n",
    ")\n",
    "model.summary()"
   ]
  },
  {
   "cell_type": "markdown",
   "id": "8d70628e",
   "metadata": {},
   "source": [
    "## 5. 모델 학습"
   ]
  },
  {
   "cell_type": "code",
   "execution_count": null,
   "id": "fa4e08db",
   "metadata": {},
   "outputs": [],
   "source": [
    "callbacks = [\n",
    "    EarlyStopping(monitor='val_loss', patience=5, restore_best_weights=True),\n",
    "    ModelCheckpoint('pet_vital_model.keras', monitor='val_loss', save_best_only=True)\n",
    "]\n",
    "\n",
    "history = model.fit(\n",
    "    X_train_scaled, y_train,\n",
    "    validation_split=0.2,\n",
    "    epochs=100,\n",
    "    batch_size=1024,\n",
    "    callbacks=callbacks,\n",
    "    verbose=1\n",
    ")"
   ]
  },
  {
   "cell_type": "markdown",
   "id": "8e20dd54",
   "metadata": {},
   "source": [
    "## 6. 모델 평가"
   ]
  },
  {
   "cell_type": "code",
   "execution_count": null,
   "id": "7810a1e5",
   "metadata": {},
   "outputs": [],
   "source": [
    "y_pred_prob = model.predict(X_test_scaled)\n",
    "y_pred = (y_pred_prob > 0.5).astype(int).reshape(-1)\n",
    "\n",
    "print('Classification Report:')\n",
    "print(classification_report(y_test, y_pred, digits=4))\n",
    "print('Confusion Matrix:')\n",
    "print(confusion_matrix(y_test, y_pred))"
   ]
  },
  {
   "cell_type": "markdown",
   "id": "9f56f62a",
   "metadata": {},
   "source": [
    "## 7. 학습 과정 시각화"
   ]
  },
  {
   "cell_type": "code",
   "execution_count": null,
   "id": "5a85f490",
   "metadata": {},
   "outputs": [],
   "source": [
    "plt.figure(figsize=(12,5))\n",
    "# 정확도\n",
    "plt.subplot(1,2,1)\n",
    "plt.plot(history.history['accuracy'], label='Train Acc')\n",
    "plt.plot(history.history['val_accuracy'], label='Val Acc')\n",
    "plt.title('Accuracy')\n",
    "plt.xlabel('Epoch')\n",
    "plt.ylabel('Accuracy')\n",
    "plt.legend()\n",
    "\n",
    "# 손실\n",
    "plt.subplot(1,2,2)\n",
    "plt.plot(history.history['loss'], label='Train Loss')\n",
    "plt.plot(history.history['val_loss'], label='Val Loss')\n",
    "plt.title('Loss')\n",
    "plt.xlabel('Epoch')\n",
    "plt.ylabel('Loss')\n",
    "plt.legend()\n",
    "\n",
    "plt.tight_layout()\n",
    "plt.show()"
   ]
  },
  {
   "cell_type": "markdown",
   "id": "57d3c4c6",
   "metadata": {},
   "source": [
    "## 8. 새로운 샘플 예측 예시"
   ]
  },
  {
   "cell_type": "code",
   "execution_count": null,
   "id": "b1e24198",
   "metadata": {},
   "outputs": [],
   "source": [
    "# 임의 샘플 생성 함수\n",
    "def random_vital_sample():\n",
    "    return np.array([[\n",
    "        np.random.randint(50,200),\n",
    "        np.random.randint(5,50),\n",
    "        round(np.random.uniform(36.0,40.5),1),\n",
    "        np.random.choice([0,1,2]),\n",
    "        np.random.choice([0,1,2])\n",
    "    ]])\n",
    "\n",
    "samples = np.vstack([random_vital_sample() for _ in range(10)])\n",
    "samples_scaled = scaler.transform(samples)\n",
    "probs = model.predict(samples_scaled)\n",
    "classes = (probs > 0.5).astype(int).reshape(-1)\n",
    "\n",
    "for i, (prob, cls) in enumerate(zip(probs, classes), 1):\n",
    "    print(f\"샘플 {i}: 확률={prob[0]:.4f}, 예측={cls}\\n\")"
   ]
  }
 ],
 "metadata": {},
 "nbformat": 4,
 "nbformat_minor": 5
}
